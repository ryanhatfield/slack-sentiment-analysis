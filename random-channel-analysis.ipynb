{
 "cells": [
  {
   "cell_type": "code",
   "execution_count": null,
   "metadata": {},
   "outputs": [],
   "source": [
    "import os\n",
    "\n",
    "slack_token = os.environ.get('SLACK_TOKEN')\n",
    "\n",
    "if not slack_token:\n",
    "  raise EnvironmentError(\"Missing SLACK_TOKEN environment variable\")"
   ]
  },
  {
   "cell_type": "code",
   "execution_count": null,
   "metadata": {},
   "outputs": [],
   "source": [
    "from slack_sdk import WebClient\n",
    "\n",
    "client = WebClient(token=slack_token)\n",
    "channel_info = client.conversations_info(\n",
    "    channel=\"C02521W89\",\n",
    "    include_num_members=1\n",
    ")\n",
    "\n",
    "print(channel_info)"
   ]
  },
  {
   "cell_type": "code",
   "execution_count": null,
   "metadata": {},
   "outputs": [],
   "source": [
    "channel_id = channel_info['channel']['id']\n",
    "channel_name = channel_info['channel']['name']\n",
    "\n",
    "print(\"Channel Name: \", channel_name)\n",
    "print(\"Channel Id: \", channel_id)"
   ]
  },
  {
   "cell_type": "code",
   "execution_count": null,
   "metadata": {},
   "outputs": [],
   "source": [
    "history = client.conversations_history(channel=channel_id)\n",
    "message_count = len(history['messages'])\n",
    "\n",
    "\n",
    "print(\"Message Count: \", message_count)\n",
    "# print(\"Message Keys: \", history)"
   ]
  },
  {
   "cell_type": "code",
   "execution_count": null,
   "metadata": {},
   "outputs": [],
   "source": [
    "response_metadata = history['response_metadata']\n",
    "\n",
    "print(response_metadata)"
   ]
  },
  {
   "cell_type": "code",
   "execution_count": null,
   "metadata": {},
   "outputs": [],
   "source": []
  }
 ],
 "metadata": {
  "kernelspec": {
   "display_name": "Python 3",
   "language": "python",
   "name": "python3"
  },
  "language_info": {
   "codemirror_mode": {
    "name": "ipython",
    "version": 3
   },
   "file_extension": ".py",
   "mimetype": "text/x-python",
   "name": "python",
   "nbconvert_exporter": "python",
   "pygments_lexer": "ipython3",
   "version": "3.8.13"
  },
  "orig_nbformat": 4,
  "vscode": {
   "interpreter": {
    "hash": "9ac03a0a6051494cc606d484d27d20fce22fb7b4d169f583271e11d5ba46a56e"
   }
  }
 },
 "nbformat": 4,
 "nbformat_minor": 2
}
